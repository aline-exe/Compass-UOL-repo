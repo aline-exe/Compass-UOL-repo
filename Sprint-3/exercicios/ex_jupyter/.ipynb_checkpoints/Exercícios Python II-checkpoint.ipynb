{
 "cells": [
  {
   "cell_type": "markdown",
   "id": "8044fb52",
   "metadata": {},
   "source": [
    "### Exercício 21"
   ]
  },
  {
   "cell_type": "code",
   "execution_count": 2,
   "id": "b771b3ac",
   "metadata": {},
   "outputs": [
    {
     "name": "stdout",
     "output_type": "stream",
     "text": [
      "Pato\n",
      "Voando...\n",
      "Pato emitindo som...\n",
      "Emitindo som...\n",
      "Quack quack\n",
      "Pardal\n",
      "Voando...\n",
      "Pardal emitindo som...\n",
      "Emitindo som...\n",
      "Piu piu\n"
     ]
    }
   ],
   "source": [
    "class Passaro:\n",
    "    def voar(self):\n",
    "        print(\"Voando...\")\n",
    "\n",
    "    def emitir_som(self):\n",
    "        print(\"Emitindo som...\")\n",
    "\n",
    "\n",
    "class Pato(Passaro):\n",
    "    def emitir_som(self):\n",
    "        super().emitir_som()\n",
    "        print(\"Quack quack\")\n",
    "\n",
    "\n",
    "class Pardal(Passaro):\n",
    "    def emitir_som(self):\n",
    "        super().emitir_som()\n",
    "        print(\"Piu piu\")\n",
    "\n",
    "\n",
    "pato = Pato()\n",
    "print(\"Pato\")\n",
    "pato.voar()\n",
    "print (\"Pato emitindo som...\")\n",
    "pato.emitir_som()\n",
    "\n",
    "\n",
    "pardal = Pardal()\n",
    "print(\"Pardal\")\n",
    "pardal.voar()\n",
    "print (\"Pardal emitindo som...\")\n",
    "pardal.emitir_som()\n"
   ]
  },
  {
   "cell_type": "markdown",
   "id": "be11e7f8",
   "metadata": {},
   "source": [
    "### Exercício 22"
   ]
  },
  {
   "cell_type": "code",
   "execution_count": 1,
   "id": "8e7f024f",
   "metadata": {},
   "outputs": [
    {
     "name": "stdout",
     "output_type": "stream",
     "text": [
      "Fulano De Tal\n"
     ]
    }
   ],
   "source": [
    "class Pessoa:\n",
    "    def __init__(self, id):\n",
    "        self.__nome = None  \n",
    "        self.id = id        \n",
    "\n",
    "    def nome(self):\n",
    "        return self.__nome\n",
    "        \n",
    "    def nome(self, novo_nome):\n",
    "        self.__nome = novo_nome\n",
    "\n",
    "pessoa = Pessoa(0)\n",
    "pessoa.nome = 'Fulano De Tal'\n",
    "print(pessoa.nome)"
   ]
  },
  {
   "cell_type": "markdown",
   "id": "c2e03a41",
   "metadata": {},
   "source": [
    "### Exercício 23 "
   ]
  },
  {
   "cell_type": "code",
   "execution_count": 2,
   "id": "c0614d36",
   "metadata": {},
   "outputs": [
    {
     "name": "stdout",
     "output_type": "stream",
     "text": [
      "Somando: 9\n",
      "Subtraindo: -1\n"
     ]
    }
   ],
   "source": [
    "class Calculo:\n",
    "    def soma(self, x, y):\n",
    "        return x + y\n",
    "    \n",
    "    def subtracao(self, x, y):\n",
    "        return x - y\n",
    "    \n",
    "x = 4\n",
    "y = 5\n",
    "\n",
    "calculo = Calculo()\n",
    "\n",
    "resultado_soma = calculo.soma(x, y)\n",
    "print (f'Somando: {resultado_soma}')\n",
    "\n",
    "resultado_subtracao = calculo.subtracao(x,y)\n",
    "print (f'Subtraindo: {resultado_subtracao}')"
   ]
  },
  {
   "cell_type": "markdown",
   "id": "97728072",
   "metadata": {},
   "source": [
    "### Exercício 24"
   ]
  },
  {
   "cell_type": "code",
   "execution_count": 3,
   "id": "0792fb35",
   "metadata": {},
   "outputs": [
    {
     "name": "stdout",
     "output_type": "stream",
     "text": [
      "[1, 2, 3, 4, 5]\n",
      "[9, 8, 7, 6]\n"
     ]
    }
   ],
   "source": [
    "class Ordenadora:\n",
    "    def __init__(self, listaBaguncada):\n",
    "        self.listaBaguncada = listaBaguncada\n",
    "        \n",
    "    def ordenacaoCrescente(self):\n",
    "        self.listaBaguncada.sort()\n",
    "        return self.listaBaguncada\n",
    "\n",
    "    def ordenacaoDecrescente(self):\n",
    "        self.listaBaguncada.sort(reverse=True)\n",
    "        return self.listaBaguncada\n",
    "\n",
    "# 1\n",
    "crescente = Ordenadora([3, 4, 2, 1, 5])\n",
    "resultado_crescente = crescente.ordenacaoCrescente()\n",
    "print(resultado_crescente)\n",
    "\n",
    "# 2\n",
    "decrescente = Ordenadora([9, 7, 6, 8])\n",
    "resultado_decrescente = decrescente.ordenacaoDecrescente()\n",
    "print(resultado_decrescente)\n"
   ]
  },
  {
   "cell_type": "markdown",
   "id": "5e8e3d0f",
   "metadata": {},
   "source": [
    "### Exercício 25 "
   ]
  },
  {
   "cell_type": "code",
   "execution_count": 4,
   "id": "cfa2d729",
   "metadata": {},
   "outputs": [
    {
     "name": "stdout",
     "output_type": "stream",
     "text": [
      "O avião de modelo BOIENG456 possui uma velocidade máxima de 1500 km/h, capacidade para 400 passageiros e é da cor azul.\n",
      "O avião de modelo Embraer Praetor 600 possui uma velocidade máxima de 863 km/h, capacidade para 14 passageiros e é da cor azul.\n",
      "O avião de modelo Antonov An-2 possui uma velocidade máxima de 258 km/h, capacidade para 12 passageiros e é da cor azul.\n"
     ]
    }
   ],
   "source": [
    "class Aviao:\n",
    "    def __init__(self, modelo, velocidade_maxima, capacidade):\n",
    "        self.modelo = modelo\n",
    "        self.velocidade_maxima = velocidade_maxima\n",
    "        self.cor = \"azul\"\n",
    "        self.capacidade = capacidade\n",
    "\n",
    "\n",
    "valores = [\n",
    "    (\"BOIENG456\", \"1500 km/h\", \"400 passageiros\"),\n",
    "    (\"Embraer Praetor 600\", \"863 km/h\", \"14 passageiros\"),\n",
    "    (\"Antonov An-2\", \"258 km/h\", \"12 passageiros\") ]\n",
    "\n",
    "avioes = []\n",
    "\n",
    "for valor in valores:\n",
    "    modelo, velocidade, capacidade = valor\n",
    "    aviao = Aviao(modelo, velocidade, capacidade)\n",
    "    avioes.append(aviao)\n",
    "\n",
    "\n",
    "for aviao in avioes:\n",
    "    print(\n",
    "        f\"O avião de modelo {aviao.modelo} possui uma velocidade máxima de {aviao.velocidade_maxima}, capacidade para {aviao.capacidade} e é da cor {aviao.cor}.\"\n",
    "    )\n"
   ]
  },
  {
   "cell_type": "code",
   "execution_count": null,
   "id": "d9f0175a",
   "metadata": {},
   "outputs": [],
   "source": []
  }
 ],
 "metadata": {
  "kernelspec": {
   "display_name": "Python 3 (ipykernel)",
   "language": "python",
   "name": "python3"
  },
  "language_info": {
   "codemirror_mode": {
    "name": "ipython",
    "version": 3
   },
   "file_extension": ".py",
   "mimetype": "text/x-python",
   "name": "python",
   "nbconvert_exporter": "python",
   "pygments_lexer": "ipython3",
   "version": "3.11.5"
  }
 },
 "nbformat": 4,
 "nbformat_minor": 5
}
