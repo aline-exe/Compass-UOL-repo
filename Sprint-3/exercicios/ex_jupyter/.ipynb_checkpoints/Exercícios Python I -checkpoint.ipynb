{
 "cells": [
  {
   "cell_type": "markdown",
   "id": "30185934",
   "metadata": {},
   "source": [
    "# Exercícios I \n"
   ]
  },
  {
   "cell_type": "markdown",
   "id": "b0761199",
   "metadata": {},
   "source": [
    "### Exercício 1"
   ]
  },
  {
   "cell_type": "code",
   "execution_count": 1,
   "id": "e241fa56",
   "metadata": {},
   "outputs": [
    {
     "name": "stdout",
     "output_type": "stream",
     "text": [
      "Digite seu nome: 37\n",
      "Digite sua idade: 37\n",
      "2086\n"
     ]
    }
   ],
   "source": [
    "nome =  str(input ('Digite seu nome: '))\n",
    "idade = int(input ('Digite sua idade: '))\n",
    "\n",
    "ano_100 = 2023 + (100 - idade)\n",
    "\n",
    "print (ano_100)"
   ]
  },
  {
   "cell_type": "markdown",
   "id": "a985fc4f",
   "metadata": {},
   "source": [
    "### Exercício 2"
   ]
  },
  {
   "cell_type": "code",
   "execution_count": 2,
   "id": "8bf9ec15",
   "metadata": {},
   "outputs": [
    {
     "name": "stdout",
     "output_type": "stream",
     "text": [
      "Digite um número: 2\n",
      "Par: 2\n",
      "Digite um número: 3\n",
      "Ímpar: 3\n",
      "Digite um número: 4\n",
      "Par: 4\n"
     ]
    }
   ],
   "source": [
    "for i in range(3):\n",
    "    numero = int(input(\"Digite um número: \"))\n",
    "    \n",
    "    if numero % 2 == 0:\n",
    "        print(f\"Par: {numero}\")\n",
    "    else:\n",
    "        print(f\"Ímpar: {numero}\")"
   ]
  },
  {
   "cell_type": "markdown",
   "id": "6c334594",
   "metadata": {},
   "source": [
    "### Exercício 3"
   ]
  },
  {
   "cell_type": "code",
   "execution_count": 4,
   "id": "19a7b736",
   "metadata": {},
   "outputs": [
    {
     "name": "stdout",
     "output_type": "stream",
     "text": [
      "0\n",
      "2\n",
      "4\n",
      "6\n",
      "8\n",
      "10\n",
      "12\n",
      "14\n",
      "16\n",
      "18\n",
      "20\n"
     ]
    }
   ],
   "source": [
    "for numero in range(21):\n",
    "\n",
    "    if numero % 2 == 0:\n",
    "        print (numero)\n",
    "   "
   ]
  },
  {
   "cell_type": "markdown",
   "id": "f068186f",
   "metadata": {},
   "source": [
    "### Exercício 4"
   ]
  },
  {
   "cell_type": "code",
   "execution_count": 2,
   "id": "135eadef",
   "metadata": {},
   "outputs": [
    {
     "name": "stdout",
     "output_type": "stream",
     "text": [
      "2\n",
      "3\n",
      "5\n",
      "7\n",
      "11\n",
      "13\n",
      "17\n",
      "19\n",
      "23\n",
      "29\n",
      "31\n",
      "37\n",
      "41\n",
      "43\n",
      "47\n",
      "53\n",
      "59\n",
      "61\n",
      "67\n",
      "71\n",
      "73\n",
      "79\n",
      "83\n",
      "89\n",
      "97\n"
     ]
    }
   ],
   "source": [
    "def primo(numero):\n",
    "    if numero < 2:\n",
    "        return False\n",
    "    \n",
    "    for i in range (2, int(numero ** 0.5) + 1):\n",
    "        if numero % i == 0:\n",
    "            return False\n",
    "    return True\n",
    "\n",
    "for numero in range(0, 101):\n",
    "    if primo(numero):\n",
    "        print(numero)\n"
   ]
  },
  {
   "cell_type": "markdown",
   "id": "aabc1a1e",
   "metadata": {},
   "source": [
    "### Exercício 5"
   ]
  },
  {
   "cell_type": "code",
   "execution_count": 3,
   "id": "294cc373",
   "metadata": {},
   "outputs": [
    {
     "name": "stdout",
     "output_type": "stream",
     "text": [
      "22/10/2022\n"
     ]
    }
   ],
   "source": [
    "dia = 22\n",
    "mes = 10\n",
    "ano = 2022\n",
    "\n",
    "print(f\"{dia}/{mes}/{ano}\")"
   ]
  },
  {
   "cell_type": "markdown",
   "id": "d9e31174",
   "metadata": {},
   "source": [
    "### Exerício 6"
   ]
  },
  {
   "cell_type": "code",
   "execution_count": 9,
   "id": "7bbc4009",
   "metadata": {},
   "outputs": [
    {
     "name": "stdout",
     "output_type": "stream",
     "text": [
      "[1, 2, 3, 5, 8, 14]\n"
     ]
    }
   ],
   "source": [
    "a = [1, 1, 2, 3, 5, 8, 14, 21, 34, 55, 89]\n",
    "b = [1, 2, 3, 4, 5, 6, 7, 8, 9, 10, 11, 12, 13, 14, 15]\n",
    "\n",
    "set_a = set(a)\n",
    "set_b = set(b)\n",
    "\n",
    "iguais = set_a.intersection(set_b)\n",
    "\n",
    "print(list(iguais))"
   ]
  },
  {
   "cell_type": "markdown",
   "id": "a013073a",
   "metadata": {},
   "source": [
    "### Exercício 7"
   ]
  },
  {
   "cell_type": "code",
   "execution_count": 8,
   "id": "2e26dccd",
   "metadata": {},
   "outputs": [
    {
     "name": "stdout",
     "output_type": "stream",
     "text": [
      "[1, 9, 25, 49, 81]\n"
     ]
    }
   ],
   "source": [
    "a = [1, 4, 9, 16, 25, 36, 49, 64, 81, 100]\n",
    "\n",
    "impares = [num for num in a if num % 2 != 0]\n",
    "\n",
    "print(impares)"
   ]
  },
  {
   "cell_type": "markdown",
   "id": "7d6927d3",
   "metadata": {},
   "source": [
    "### Exercício 8"
   ]
  },
  {
   "cell_type": "code",
   "execution_count": 10,
   "id": "5a98066f",
   "metadata": {},
   "outputs": [
    {
     "name": "stdout",
     "output_type": "stream",
     "text": [
      "A palavra: maça não é um palíndromo\n",
      "A palavra: arara é um palíndromo\n",
      "A palavra: audio não é um palíndromo\n",
      "A palavra: radio não é um palíndromo\n",
      "A palavra: radar é um palíndromo\n",
      "A palavra: moto não é um palíndromo\n"
     ]
    }
   ],
   "source": [
    "a = ['maça', 'arara', 'audio', 'radio', 'radar', 'moto']\n",
    "\n",
    "\n",
    "for palavra in a:\n",
    "    if palavra == palavra[::-1]:\n",
    "        print(f\"A palavra: {palavra} é um palíndromo\")\n",
    "    else:\n",
    "        print(f\"A palavra: {palavra} não é um palíndromo\")"
   ]
  },
  {
   "cell_type": "markdown",
   "id": "b44d7f3e",
   "metadata": {},
   "source": [
    "### Exercício 9"
   ]
  },
  {
   "cell_type": "code",
   "execution_count": 13,
   "id": "3d8603ff",
   "metadata": {},
   "outputs": [
    {
     "name": "stdout",
     "output_type": "stream",
     "text": [
      "0 - Joao Soares está com 19 anos\n",
      "1 - Douglas Souza está com 28 anos\n",
      "2 - Lucas Silveira está com 25 anos\n",
      "3 - José Pedreira está com 31 anos\n"
     ]
    }
   ],
   "source": [
    "primeirosNomes = ['Joao', 'Douglas', 'Lucas', 'José']\n",
    "sobreNomes = ['Soares', 'Souza', 'Silveira', 'Pedreira']\n",
    "idades = [19, 28, 25, 31]\n",
    "\n",
    "for i, (primeiroNome, sobreNome, idade) in enumerate(zip(primeirosNomes, sobreNomes, idades)):\n",
    "    print(f\"{i} - {primeiroNome} {sobreNome} está com {idade} anos\")\n"
   ]
  },
  {
   "cell_type": "markdown",
   "id": "89e1f32a",
   "metadata": {},
   "source": [
    "### Exercício 10"
   ]
  },
  {
   "cell_type": "code",
   "execution_count": 1,
   "id": "6298b48a",
   "metadata": {},
   "outputs": [
    {
     "name": "stdout",
     "output_type": "stream",
     "text": [
      "['123', 'abc']\n"
     ]
    }
   ],
   "source": [
    "def duplicados(lista):\n",
    "    return list(set(lista))\n",
    "\n",
    "lista = ['abc', 'abc', 'abc', '123', 'abc', '123', '123']\n",
    "print (duplicados(lista))"
   ]
  },
  {
   "cell_type": "markdown",
   "id": "364545a9",
   "metadata": {},
   "source": [
    "### Exercício 11"
   ]
  },
  {
   "cell_type": "code",
   "execution_count": 2,
   "id": "57733068",
   "metadata": {},
   "outputs": [
    {
     "ename": "FileNotFoundError",
     "evalue": "[Errno 2] No such file or directory: 'arquivo_texto.txt'",
     "output_type": "error",
     "traceback": [
      "\u001b[1;31m---------------------------------------------------------------------------\u001b[0m",
      "\u001b[1;31mFileNotFoundError\u001b[0m                         Traceback (most recent call last)",
      "Cell \u001b[1;32mIn[2], line 1\u001b[0m\n\u001b[1;32m----> 1\u001b[0m \u001b[38;5;28;01mwith\u001b[39;00m \u001b[38;5;28mopen\u001b[39m (\u001b[38;5;124m'\u001b[39m\u001b[38;5;124marquivo_texto.txt\u001b[39m\u001b[38;5;124m'\u001b[39m, \u001b[38;5;124m'\u001b[39m\u001b[38;5;124mr\u001b[39m\u001b[38;5;124m'\u001b[39m) \u001b[38;5;28;01mas\u001b[39;00m file:\n\u001b[0;32m      2\u001b[0m     texto \u001b[38;5;241m=\u001b[39m file\u001b[38;5;241m.\u001b[39mread()\n\u001b[0;32m      4\u001b[0m \u001b[38;5;28mprint\u001b[39m(texto)\n",
      "File \u001b[1;32m~\\anaconda3\\Lib\\site-packages\\IPython\\core\\interactiveshell.py:286\u001b[0m, in \u001b[0;36m_modified_open\u001b[1;34m(file, *args, **kwargs)\u001b[0m\n\u001b[0;32m    279\u001b[0m \u001b[38;5;28;01mif\u001b[39;00m file \u001b[38;5;129;01min\u001b[39;00m {\u001b[38;5;241m0\u001b[39m, \u001b[38;5;241m1\u001b[39m, \u001b[38;5;241m2\u001b[39m}:\n\u001b[0;32m    280\u001b[0m     \u001b[38;5;28;01mraise\u001b[39;00m \u001b[38;5;167;01mValueError\u001b[39;00m(\n\u001b[0;32m    281\u001b[0m         \u001b[38;5;124mf\u001b[39m\u001b[38;5;124m\"\u001b[39m\u001b[38;5;124mIPython won\u001b[39m\u001b[38;5;124m'\u001b[39m\u001b[38;5;124mt let you open fd=\u001b[39m\u001b[38;5;132;01m{\u001b[39;00mfile\u001b[38;5;132;01m}\u001b[39;00m\u001b[38;5;124m by default \u001b[39m\u001b[38;5;124m\"\u001b[39m\n\u001b[0;32m    282\u001b[0m         \u001b[38;5;124m\"\u001b[39m\u001b[38;5;124mas it is likely to crash IPython. If you know what you are doing, \u001b[39m\u001b[38;5;124m\"\u001b[39m\n\u001b[0;32m    283\u001b[0m         \u001b[38;5;124m\"\u001b[39m\u001b[38;5;124myou can use builtins\u001b[39m\u001b[38;5;124m'\u001b[39m\u001b[38;5;124m open.\u001b[39m\u001b[38;5;124m\"\u001b[39m\n\u001b[0;32m    284\u001b[0m     )\n\u001b[1;32m--> 286\u001b[0m \u001b[38;5;28;01mreturn\u001b[39;00m io_open(file, \u001b[38;5;241m*\u001b[39margs, \u001b[38;5;241m*\u001b[39m\u001b[38;5;241m*\u001b[39mkwargs)\n",
      "\u001b[1;31mFileNotFoundError\u001b[0m: [Errno 2] No such file or directory: 'arquivo_texto.txt'"
     ]
    }
   ],
   "source": [
    "with open ('arquivo_texto.txt', 'r') as file:\n",
    "    texto = file.read()\n",
    "\n",
    "print(texto)"
   ]
  },
  {
   "cell_type": "markdown",
   "id": "99529c64",
   "metadata": {},
   "source": [
    "### Exercício 12"
   ]
  },
  {
   "cell_type": "code",
   "execution_count": 4,
   "id": "2104e31e",
   "metadata": {},
   "outputs": [
    {
     "ename": "FileNotFoundError",
     "evalue": "[Errno 2] No such file or directory: 'person.json'",
     "output_type": "error",
     "traceback": [
      "\u001b[1;31m---------------------------------------------------------------------------\u001b[0m",
      "\u001b[1;31mFileNotFoundError\u001b[0m                         Traceback (most recent call last)",
      "Cell \u001b[1;32mIn[4], line 3\u001b[0m\n\u001b[0;32m      1\u001b[0m \u001b[38;5;28;01mimport\u001b[39;00m \u001b[38;5;21;01mjson\u001b[39;00m\n\u001b[1;32m----> 3\u001b[0m \u001b[38;5;28;01mwith\u001b[39;00m \u001b[38;5;28mopen\u001b[39m(\u001b[38;5;124m'\u001b[39m\u001b[38;5;124mperson.json\u001b[39m\u001b[38;5;124m'\u001b[39m, \u001b[38;5;124m'\u001b[39m\u001b[38;5;124mr\u001b[39m\u001b[38;5;124m'\u001b[39m) \u001b[38;5;28;01mas\u001b[39;00m file:\n\u001b[0;32m      4\u001b[0m     texto \u001b[38;5;241m=\u001b[39m json\u001b[38;5;241m.\u001b[39mload(file)\n\u001b[0;32m      6\u001b[0m \u001b[38;5;28mprint\u001b[39m(texto)\n",
      "File \u001b[1;32m~\\anaconda3\\Lib\\site-packages\\IPython\\core\\interactiveshell.py:286\u001b[0m, in \u001b[0;36m_modified_open\u001b[1;34m(file, *args, **kwargs)\u001b[0m\n\u001b[0;32m    279\u001b[0m \u001b[38;5;28;01mif\u001b[39;00m file \u001b[38;5;129;01min\u001b[39;00m {\u001b[38;5;241m0\u001b[39m, \u001b[38;5;241m1\u001b[39m, \u001b[38;5;241m2\u001b[39m}:\n\u001b[0;32m    280\u001b[0m     \u001b[38;5;28;01mraise\u001b[39;00m \u001b[38;5;167;01mValueError\u001b[39;00m(\n\u001b[0;32m    281\u001b[0m         \u001b[38;5;124mf\u001b[39m\u001b[38;5;124m\"\u001b[39m\u001b[38;5;124mIPython won\u001b[39m\u001b[38;5;124m'\u001b[39m\u001b[38;5;124mt let you open fd=\u001b[39m\u001b[38;5;132;01m{\u001b[39;00mfile\u001b[38;5;132;01m}\u001b[39;00m\u001b[38;5;124m by default \u001b[39m\u001b[38;5;124m\"\u001b[39m\n\u001b[0;32m    282\u001b[0m         \u001b[38;5;124m\"\u001b[39m\u001b[38;5;124mas it is likely to crash IPython. If you know what you are doing, \u001b[39m\u001b[38;5;124m\"\u001b[39m\n\u001b[0;32m    283\u001b[0m         \u001b[38;5;124m\"\u001b[39m\u001b[38;5;124myou can use builtins\u001b[39m\u001b[38;5;124m'\u001b[39m\u001b[38;5;124m open.\u001b[39m\u001b[38;5;124m\"\u001b[39m\n\u001b[0;32m    284\u001b[0m     )\n\u001b[1;32m--> 286\u001b[0m \u001b[38;5;28;01mreturn\u001b[39;00m io_open(file, \u001b[38;5;241m*\u001b[39margs, \u001b[38;5;241m*\u001b[39m\u001b[38;5;241m*\u001b[39mkwargs)\n",
      "\u001b[1;31mFileNotFoundError\u001b[0m: [Errno 2] No such file or directory: 'person.json'"
     ]
    }
   ],
   "source": [
    "import json\n",
    "\n",
    "with open('person.json', 'r') as file:\n",
    "    texto = json.load(file)\n",
    "\n",
    "print(texto)\n"
   ]
  },
  {
   "cell_type": "markdown",
   "id": "7a11a8d0",
   "metadata": {},
   "source": [
    "### Exercício 13"
   ]
  },
  {
   "cell_type": "code",
   "execution_count": 5,
   "id": "31e5e399",
   "metadata": {},
   "outputs": [
    {
     "name": "stdout",
     "output_type": "stream",
     "text": [
      "[1, 4, 9, 16, 25, 36, 49, 64, 81, 100]\n"
     ]
    }
   ],
   "source": [
    "def my_map(lista, f):\n",
    "    return [f(n) for n in lista]\n",
    "\n",
    "def potencia(n):\n",
    "    return n**2\n",
    "\n",
    "lista = [1, 2, 3, 4, 5, 6, 7, 8, 9, 10]\n",
    "\n",
    "resultado = my_map(lista, potencia)\n",
    "print (resultado)\n"
   ]
  },
  {
   "cell_type": "markdown",
   "id": "8a865a00",
   "metadata": {},
   "source": [
    "### Exercício 14"
   ]
  },
  {
   "cell_type": "code",
   "execution_count": 7,
   "id": "e1edb7c4",
   "metadata": {},
   "outputs": [
    {
     "name": "stdout",
     "output_type": "stream",
     "text": [
      "1\n",
      "3\n",
      "4\n",
      "hello\n",
      "alguma coisa\n",
      "20\n"
     ]
    }
   ],
   "source": [
    "def funcao(*args, **kwargs):\n",
    "    for arg in args:\n",
    "        print(arg)\n",
    "    for value in kwargs.values():\n",
    "        print(value)\n",
    "\n",
    "# Testando a função\n",
    "funcao(1, 3, 4, 'hello', parametro_nomeado='alguma coisa', x=20)\n"
   ]
  },
  {
   "cell_type": "markdown",
   "id": "caaae7bf",
   "metadata": {},
   "source": [
    "### Exercício 15"
   ]
  },
  {
   "cell_type": "code",
   "execution_count": 9,
   "id": "6d1338fc",
   "metadata": {},
   "outputs": [
    {
     "name": "stdout",
     "output_type": "stream",
     "text": [
      "A lâmpada ligou.\n",
      "A lâmpada está ligada? True\n",
      "A lâmpada desligou.\n",
      "A lâmpada continua ligada? False\n"
     ]
    }
   ],
   "source": [
    "class Lampada:\n",
    "    def __init__ (self, ligada= False):\n",
    "        self.ligada = ligada\n",
    "    def liga(self):\n",
    "        self.ligada = True\n",
    "    def desliga(self):\n",
    "        self.ligada = False\n",
    "    def esta_ligada(self):\n",
    "        return self.ligada\n",
    "    \n",
    "lampada = Lampada()\n",
    "\n",
    "lampada.liga()\n",
    "print ('A lâmpada ligou.')\n",
    "\n",
    "print (f'A lâmpada está ligada? {lampada.esta_ligada()}')\n",
    "\n",
    "lampada.desliga()\n",
    "print('A lâmpada desligou.')\n",
    "\n",
    "print (f'A lâmpada continua ligada? {lampada.esta_ligada()}')"
   ]
  },
  {
   "cell_type": "markdown",
   "id": "a9d7e963",
   "metadata": {},
   "source": [
    "### Exerício 16"
   ]
  },
  {
   "cell_type": "code",
   "execution_count": 10,
   "id": "b4f51c14",
   "metadata": {},
   "outputs": [
    {
     "name": "stdout",
     "output_type": "stream",
     "text": [
      "100\n"
     ]
    }
   ],
   "source": [
    "def soma(string_num):\n",
    "    num = [int(x) for x in string_num.split(',')] #converter em int, split(',') divide os num\n",
    "    resultado = sum(num)\n",
    "    return resultado\n",
    "\n",
    "string_num = \"1,3,4,6,10,76\"\n",
    "soma = soma(string_num)\n",
    "\n",
    "print(soma)"
   ]
  },
  {
   "cell_type": "markdown",
   "id": "2eaf85ac",
   "metadata": {},
   "source": [
    "### Exercício 17"
   ]
  },
  {
   "cell_type": "code",
   "execution_count": 11,
   "id": "d6dbaa21",
   "metadata": {},
   "outputs": [
    {
     "name": "stdout",
     "output_type": "stream",
     "text": [
      "[1, 2, 3, 4] [5, 6, 7, 8] [9, 10, 11, 12]\n"
     ]
    }
   ],
   "source": [
    "def divisao_lista(lista):\n",
    "    tamanho = len(lista) // 3\n",
    "\n",
    "    parte1 = lista[:tamanho]\n",
    "    parte2 = lista[tamanho : 2 * tamanho]\n",
    "    parte3 = lista[2 * tamanho :]\n",
    "\n",
    "    return parte1, parte2, parte3\n",
    "\n",
    "lista = [1, 2, 3, 4, 5, 6, 7, 8, 9, 10, 11, 12]\n",
    "parte1, parte2, parte3 = divisao_lista(lista)\n",
    "\n",
    "print(parte1, parte2, parte3)"
   ]
  },
  {
   "cell_type": "markdown",
   "id": "3562da9e",
   "metadata": {},
   "source": [
    "### Exercício 18"
   ]
  },
  {
   "cell_type": "code",
   "execution_count": 12,
   "id": "c0959ed1",
   "metadata": {},
   "outputs": [
    {
     "name": "stdout",
     "output_type": "stream",
     "text": [
      "[44, 47, 52, 53, 54]\n"
     ]
    }
   ],
   "source": [
    "speed = {'jan':47, 'feb':52, 'march':47, 'April':44, 'May':52, 'June':53, 'july':54, 'Aug':44, 'Sept':54}\n",
    "\n",
    "unicos = list(set(speed.values()))\n",
    "\n",
    "print (unicos)"
   ]
  },
  {
   "cell_type": "markdown",
   "id": "d958f9b9",
   "metadata": {},
   "source": [
    "### Exercício 19"
   ]
  },
  {
   "cell_type": "code",
   "execution_count": 14,
   "id": "885cdd44",
   "metadata": {},
   "outputs": [
    {
     "name": "stdout",
     "output_type": "stream",
     "text": [
      "Media: 263.78, Mediana: 275.0, Mínimo: 0, Máximo: 486\n"
     ]
    }
   ],
   "source": [
    "import random\n",
    "\n",
    "random_list = random.sample(range(500), 50)\n",
    "\n",
    "# Ordenando a lista\n",
    "random_list.sort()\n",
    "\n",
    "mediana = 0\n",
    "if len(random_list) % 2 == 0:\n",
    "    meio1 = len(random_list) // 2\n",
    "    meio2 = meio1 - 1\n",
    "    mediana = (random_list[meio1] + random_list[meio2]) / 2\n",
    "else: \n",
    "    meio = len(random_list) // 2\n",
    "    mediana = random_list[meio]\n",
    "    \n",
    "media = sum(random_list) / len(random_list)\n",
    "\n",
    "valor_minimo = min(random_list)\n",
    "\n",
    "valor_maximo = max(random_list)\n",
    "\n",
    "print(f'Media: {media}, Mediana: {mediana}, Mínimo: {valor_minimo}, Máximo: {valor_maximo}')\n",
    "\n",
    "\n",
    "#(exemplo)Media: 279.46, Mediana: 286.5, Mínimo: 3, Máximo: 490\n"
   ]
  },
  {
   "cell_type": "markdown",
   "id": "e56d813c",
   "metadata": {},
   "source": [
    "### Exercício 20"
   ]
  },
  {
   "cell_type": "code",
   "execution_count": 15,
   "id": "9246d27a",
   "metadata": {},
   "outputs": [
    {
     "name": "stdout",
     "output_type": "stream",
     "text": [
      "[89, 55, 34, 21, 13, 8, 5, 3, 2, 0, 1]\n"
     ]
    }
   ],
   "source": [
    "a = [1, 0, 2, 3, 5, 8, 13, 21, 34, 55, 89]\n",
    "\n",
    "print (a[::-1])\n"
   ]
  },
  {
   "cell_type": "code",
   "execution_count": null,
   "id": "19684269",
   "metadata": {},
   "outputs": [],
   "source": []
  }
 ],
 "metadata": {
  "kernelspec": {
   "display_name": "Python 3 (ipykernel)",
   "language": "python",
   "name": "python3"
  },
  "language_info": {
   "codemirror_mode": {
    "name": "ipython",
    "version": 3
   },
   "file_extension": ".py",
   "mimetype": "text/x-python",
   "name": "python",
   "nbconvert_exporter": "python",
   "pygments_lexer": "ipython3",
   "version": "3.11.5"
  }
 },
 "nbformat": 4,
 "nbformat_minor": 5
}
